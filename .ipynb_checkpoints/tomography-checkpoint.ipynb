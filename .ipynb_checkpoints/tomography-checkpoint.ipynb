{
 "cells": [
  {
   "cell_type": "code",
   "execution_count": null,
   "metadata": {},
   "outputs": [
    {
     "data": {
      "application/vnd.jupyter.widget-view+json": {
       "model_id": "2320483fb6964d6c8dcc9896af23d71f"
      }
     },
     "metadata": {},
     "output_type": "display_data"
    }
   ],
   "source": [
    "from skimage import io\n",
    "from skimage.color import rgb2gray\n",
    "from skimage.transform import rescale\n",
    "from matplotlib import pyplot as plt\n",
    "from bresenham import bresenham\n",
    "import warnings\n",
    "import pydicom\n",
    "import numpy as np\n",
    "from math import floor, ceil, sqrt\n",
    "from ipywidgets import interact, interactive, fixed, interact_manual\n",
    "import ipywidgets as widgets\n",
    "import IPython\n",
    "%matplotlib inline\n",
    "\n",
    "alpha_w = widgets.FloatSlider(min=0.5,max=2.0,step=0.1,value=1.0)\n",
    "arc_w = widgets.IntSlider(min=10,max=180,step=10,value=90)\n",
    "det_w = widgets.IntSlider(min=10,max=300,step=10,value=120)\n",
    "r_w = widgets.IntSlider(min=1,max=5,step=1,value=3)\n",
    "# Questions\n",
    "# 1. Does bresenham algorithm has to be implemented by ourselves? YES\n",
    "# 2. What kind of patient's data can be editted by user? imie, nazwisko, PESEL\n",
    "\n",
    "def reverse_radon(sinogram, pixels_lines_count, emitters, detectors):\n",
    "    print(\"Processing sinogram to image...\")\n",
    "    detectors_count = sinogram.shape[0]\n",
    "    steps = sinogram.shape[1]\n",
    "    height = pixels_lines_count.shape[0]\n",
    "    width = pixels_lines_count.shape[1]\n",
    "    image = np.zeros(( height, width ))\n",
    "    \n",
    "    for i in range( steps ):\n",
    "        for j in range(detectors_count):\n",
    "            coordinates = list(bresenham(emitters[i][0], emitters[i][1], detectors[i][j][0], detectors[i][j][1]))\n",
    "            for c in coordinates:\n",
    "                if c[0] < height and c[1] < width and c[0] >= 0 and c[1] >= 0: \n",
    "                    image[c[0]][c[1]] += sinogram[j][i] / pixels_lines_count[c[0]][c[1]]\n",
    "    \n",
    "    plt.imshow(image, 'gray')\n",
    "    plt.show()\n",
    "    return\n",
    "\n",
    "def degrees_to_radians(alpha, arc):\n",
    "    return np.deg2rad(alpha), np.deg2rad(arc)\n",
    "    \n",
    "def count_image_parameters(image, radius_scale):\n",
    "    height = image.shape[0]\n",
    "    width = image.shape[1]\n",
    "    center = ( floor(height/2), floor( width/2 ))\n",
    "#     radius = np.min([ floor(height/2), floor(width/2) ])\n",
    "    radius = radius_scale * ceil( sqrt(height**2 + width**2) / 2 )\n",
    "    pixels_lines_count = np.zeros(( height, width ))\n",
    "    return height, width, center, radius, pixels_lines_count\n",
    "\n",
    "def load_image(path):\n",
    "    image = rgb2gray(io.imread(path, multichanel = False))\n",
    "    image = rescale(image, 1.0 / 5.0, anti_aliasing=False, mode='constant')\n",
    "    print(\"Image to process:\")\n",
    "    plt.imshow(image, 'gray')\n",
    "    plt.show()\n",
    "    return(image)\n",
    "\n",
    "def prepare_output():\n",
    "    warnings.filterwarnings('ignore')\n",
    "    IPython.display.clear_output()\n",
    "    return\n",
    "    \n",
    "# @widgets.interact_manual(\n",
    "#     alpha=alpha_w, arc = arc_w, detectors_count=det_w, radius_scale=r_w)\n",
    "@interact(alpha=alpha_w, arc = arc_w, detectors_count=det_w, radius_scale=r_w)\n",
    "def radon(alpha, arc, detectors_count, radius_scale):\n",
    "    prepare_output()\n",
    "    image = load_image('brain.jpg')\n",
    "    height, width, center,  radius, pixels_lines_count = count_image_parameters(image, radius_scale)\n",
    "    alpha, arc = degrees_to_radians(alpha, arc)\n",
    "    steps = int( np.pi*2 / alpha)\n",
    "    sinogram = np.zeros((detectors_count, steps))\n",
    "    emitter_coordinates = []\n",
    "    detector_coordinates = []\n",
    "    print(\"Sinogram processing\")\n",
    "    for i in range( steps ):\n",
    "        angle = alpha * i\n",
    "        x_emitter = center[0] + floor(radius * np.cos(angle))\n",
    "        y_emitter =  center[1] + floor(radius * np.sin(angle))\n",
    "        emitter_coordinates.append((x_emitter, y_emitter))\n",
    "        detector_coordinates.append([])\n",
    "        for j in range(detectors_count):\n",
    "            x = center[0] + floor(radius * np.cos(angle + np.pi - arc/2 + j * arc/(detectors_count-1)))\n",
    "            y = center[1] + floor(radius * np.sin(angle + np.pi - arc/2 + j * arc/(detectors_count-1)))\n",
    "            coordinates = list(bresenham(x_emitter, y_emitter, x, y))\n",
    "            detector_coordinates[i].append((x,y))\n",
    "            for c in coordinates:\n",
    "                if c[0] < height and c[1] < width and c[0] >= 0 and c[1] >= 0: \n",
    "                    sinogram[j,i] += image[c[0], c[1]]\n",
    "                    pixels_lines_count[c[0], c[1]] += 1\n",
    "            sinogram[j,i] = sinogram[j,i] / len(coordinates)\n",
    "    plt.imshow(sinogram, 'gray')\n",
    "    plt.show()\n",
    "    reverse_radon(sinogram, pixels_lines_count, emitter_coordinates, detector_coordinates)\n",
    "    return\n",
    "\n",
    "# # DICOM files management\n",
    "# ds = pydicom.dcmread(\"0015.DCM\")\n",
    "# print(ds)\n",
    "# print(ds.PatientName)\n",
    "# print(ds.PatientID)\n",
    "# print(ds.StudyDate)\n",
    "# print(ds.ImageComments) \n",
    "\n",
    "# plt.imshow(ds.pixel_array, cmap = 'gray') \n",
    "# plt.show()"
   ]
  },
  {
   "cell_type": "code",
   "execution_count": 4,
   "metadata": {},
   "outputs": [
    {
     "data": {
      "application/vnd.jupyter.widget-view+json": {
       "model_id": "8b18bf9087414237ba0b54a80193f10d"
      }
     },
     "metadata": {},
     "output_type": "display_data"
    },
    {
     "data": {
      "text/plain": [
       "<function __main__.radon(alpha, arc, detectors_count, radius_scale)>"
      ]
     },
     "execution_count": 4,
     "metadata": {},
     "output_type": "execute_result"
    }
   ],
   "source": [
    "# interact_manual(radon, alpha = (1,180,1), arc = (5,180,5), detectors_count = (10,300,10), radius_scale=(1,5,1))\n",
    "# interact_manual(radon, alpha = alpha_w, arc = arc_w, detectors_count = det_w, radius_scale=r_w)"
   ]
  }
 ],
 "metadata": {
  "kernelspec": {
   "display_name": "Python 3",
   "language": "python",
   "name": "python3"
  },
  "language_info": {
   "codemirror_mode": {
    "name": "ipython",
    "version": 3
   },
   "file_extension": ".py",
   "mimetype": "text/x-python",
   "name": "python",
   "nbconvert_exporter": "python",
   "pygments_lexer": "ipython3",
   "version": "3.6.7"
  }
 },
 "nbformat": 4,
 "nbformat_minor": 2
}
